{
  "cells": [
    {
      "cell_type": "code",
      "execution_count": 8,
      "metadata": {
        "id": "m1-hAMr36rAo"
      },
      "outputs": [],
      "source": [
        "import matplotlib.pyplot as plt\n",
        "import numpy as np"
      ]
    },
    {
      "cell_type": "code",
      "execution_count": 9,
      "metadata": {
        "id": "Rzd3N3NH6vGU"
      },
      "outputs": [],
      "source": [
        "def visualize_points(all_points, point1, point2):\n",
        "\n",
        "    x_coords = [coord[0] for coord in all_points]\n",
        "    y_coords = [coord[1] for coord in all_points]\n",
        "\n",
        "    grid_width = max(x_coords)+1\n",
        "    grid_height = max(y_coords)+1\n",
        "\n",
        "    grid = np.zeros((grid_height, grid_width))\n",
        "    for x, y in zip(x_coords, y_coords):\n",
        "        grid[y, x] = 1\n",
        "    plt.figure(figsize=(8, 8)) \n",
        "    plt.imshow(grid, cmap='YlOrBr', origin='lower', extent=[0, grid_width, 0, grid_height], alpha=0.7, aspect='equal')\n",
        "    plt.xlabel('X-axis')\n",
        "    plt.ylabel('Y-axis')\n",
        "    plt.title('Grid with Filled Cells at (X, Y) Coordinates')\n",
        "    plt.legend()\n",
        "    plt.grid(True, color='gray', linewidth=0.5)\n",
        "    plt.show()"
      ]
    },
    {
      "cell_type": "code",
      "execution_count": 3,
      "metadata": {
        "id": "BwWq7jnA6xZq"
      },
      "outputs": [],
      "source": [
        "def slope_less_than_one(point1, point2):\n",
        "    print('Points are: ', point1, point2)\n",
        "    print('Slope is lesser than one')\n",
        "    all_points = []\n",
        "    all_p = []\n",
        "    x1, y1 = point1\n",
        "    x2, y2 = point2\n",
        "    x, y = x1, y1\n",
        "    dy = y2 - y1\n",
        "    dx = x2 - x1\n",
        "    p = 2 * dy - dx\n",
        "    while x <= x2:\n",
        "        all_points.append((x, y))\n",
        "        all_p.append(p)\n",
        "        x += 1\n",
        "        if p < 0:\n",
        "            p = p + 2 * dy\n",
        "        else:\n",
        "            p = p + 2 * dy - 2 * dx\n",
        "            y += 1\n",
        "    print(\"Intermediate Points are: \", all_points)\n",
        "    print(\"Decision Parameters are: \", all_p)\n",
        "    visualize_points(all_points, point1, point2)\n"
      ]
    },
    {
      "cell_type": "code",
      "execution_count": 10,
      "metadata": {
        "id": "aSKuh1Vy6zzO"
      },
      "outputs": [],
      "source": [
        "def slope_greater_than_one(point1, point2):\n",
        "    print('Points are: ', point1, point2)\n",
        "    print('Slope is greater or equal one')\n",
        "    all_points = []\n",
        "    all_p = []\n",
        "    x1, y1 = point1\n",
        "    x2, y2 = point2\n",
        "    x, y = x1, y1\n",
        "    dy = y2 - y1\n",
        "    dx = x2 - x1\n",
        "    p = 2 * dx - dy\n",
        "    while y <= y2:\n",
        "        all_points.append((x, y))\n",
        "        all_p.append(p)\n",
        "        y += 1\n",
        "        if p < 0:\n",
        "            p = p + 2 * dx\n",
        "        else:\n",
        "            p = p + 2 * dx - 2 * dy\n",
        "            x += 1\n",
        "    print(\"Intermediate Points are: \", all_points)\n",
        "    print(\"Decision Parameters are: \", all_p)\n",
        "    visualize_points(all_points, point1, point2)\n"
      ]
    },
    {
      "cell_type": "code",
      "execution_count": 5,
      "metadata": {
        "id": "qkg3opRq62RS"
      },
      "outputs": [],
      "source": [
        "def bresenham_line(point1, point2):\n",
        "    x1, y1 = point1\n",
        "    x2, y2 = point2\n",
        "    dy = y2 - y1\n",
        "    dx = x2 - x1\n",
        "    if dy < dx:\n",
        "        slope_less_than_one(point1, point2)\n",
        "    else:\n",
        "        slope_greater_than_one(point1, point2)"
      ]
    },
    {
      "cell_type": "code",
      "execution_count": 11,
      "metadata": {
        "colab": {
          "base_uri": "https://localhost:8080/",
          "height": 554
        },
        "id": "T9u634fV68oJ",
        "outputId": "4a3bec9a-55fa-4b47-e71f-849e3dcfb159"
      },
      "outputs": [
        {
          "name": "stderr",
          "output_type": "stream",
          "text": [
            "No artists with labels found to put in legend.  Note that artists whose label start with an underscore are ignored when legend() is called with no argument.\n"
          ]
        },
        {
          "name": "stdout",
          "output_type": "stream",
          "text": [
            "Points are:  [1, 1] [8, 4]\n",
            "Slope is lesser than one\n",
            "Intermediate Points are:  [(1, 1), (2, 1), (3, 2), (4, 2), (5, 3), (6, 3), (7, 4), (8, 4)]\n",
            "Decision Parameters are:  [-1, 5, -3, 3, -5, 1, -7, -1]\n"
          ]
        },
        {
          "data": {
            "image/png": "[encoded data removed]",
            "text/plain": [
              "<Figure size 800x800 with 1 Axes>"
            ]
          },
          "metadata": {},
          "output_type": "display_data"
        }
      ],
      "source": [
        " point1 = [1, 1]\n",
        " point2 = [8, 4]\n",
        " bresenham_line(point1, point2)"
      ]
    },
    {
      "cell_type": "code",
      "execution_count": 7,
      "metadata": {
        "colab": {
          "base_uri": "https://localhost:8080/",
          "height": 825
        },
        "id": "xN21JUk17AQD",
        "outputId": "fef74463-d0ac-4839-a6dc-5c4ee412e9be"
      },
      "outputs": [
        {
          "name": "stderr",
          "output_type": "stream",
          "text": [
            "No artists with labels found to put in legend.  Note that artists whose label start with an underscore are ignored when legend() is called with no argument.\n"
          ]
        },
        {
          "name": "stdout",
          "output_type": "stream",
          "text": [
            "Points are:  [1, 1] [4, 8]\n",
            "Slope is greater or equal one\n",
            "Intermediate Points are:  [(1, 1), (1, 2), (2, 3), (2, 4), (3, 5), (3, 6), (4, 7), (4, 8)]\n",
            "Decision Parameters are:  [-1, 5, -3, 3, -5, 1, -7, -1]\n"
          ]
        },
        {
          "data": {
            "image/png": "[encoded data removed]",
            "text/plain": [
              "<Figure size 800x800 with 1 Axes>"
            ]
          },
          "metadata": {},
          "output_type": "display_data"
        }
      ],
      "source": [
        " point1 = [1, 1]\n",
        " point2 = [4, 8]\n",
        " bresenham_line(point1, point2)"
      ]
    },
    {
      "cell_type": "code",
      "execution_count": null,
      "metadata": {
        "id": "1A3g58N4FxlP"
      },
      "outputs": [],
      "source": []
    }
  ],
  "metadata": {
    "colab": {
      "provenance": []
    },
    "kernelspec": {
      "display_name": "Python 3",
      "name": "python3"
    },
    "language_info": {
      "codemirror_mode": {
        "name": "ipython",
        "version": 3
      },
      "file_extension": ".py",
      "mimetype": "text/x-python",
      "name": "python",
      "nbconvert_exporter": "python",
      "pygments_lexer": "ipython3",
      "version": "3.10.13"
    }
  },
  "nbformat": 4,
  "nbformat_minor": 0
}
